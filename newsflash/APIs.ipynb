{
 "cells": [
  {
   "cell_type": "code",
   "execution_count": 8,
   "metadata": {
    "collapsed": true
   },
   "outputs": [],
   "source": [
    "import requests\n",
    "import json"
   ]
  },
  {
   "cell_type": "code",
   "execution_count": 83,
   "metadata": {
    "collapsed": false
   },
   "outputs": [],
   "source": [
    "class FlashTranslator:\n",
    "    \n",
    "    def __init__(self):\n",
    "        self.kr = \"http://36kr.com/api/info-flow/newsflash_columns/newsflashes?per_page=10\"\n",
    "        self.baidu = \"http://translate.baidu.com/v2transapi\"\n",
    "        self.key_words = set(['created_at', 'published_at', 'updated_at', 'title', 'description', 'id'])\n",
    "        self._kr_src = None\n",
    "        self.result = None\n",
    "        \n",
    "    @property\n",
    "    def kr_src(self):\n",
    "        if self._kr_src is None:\n",
    "            r = requests.get(self.kr)\n",
    "            res = r.json()['data']['items']\n",
    "            self._kr_src = [ {k: v for k,  v in row.items() if k in key_words} for row in res]\n",
    "        return self._kr_src\n",
    "    \n",
    "    def translate(self):\n",
    "        query = \"\"\n",
    "        for d in self.kr_src:\n",
    "            current = d['title'] + '\\n' + d['description'].replace('\\n', '') + '\\n'\n",
    "            query += current\n",
    "\n",
    "        post_data = {\n",
    "            'from': 'zh',\n",
    "            'to': 'en',\n",
    "            'query': query\n",
    "        }\n",
    "\n",
    "        p = requests.post(self.baidu, post_data)\n",
    "        res = p.json()\n",
    "        return res['trans_result']['data']\n",
    "    \n",
    "    def combine(self):\n",
    "        data = self.translate()\n",
    "        i = 0\n",
    "        new_data = []\n",
    "        for each_dict in self.kr_src:\n",
    "            current = each_dict.copy()\n",
    "            if current['title'].strip() == data[i]['src'].strip():\n",
    "                current['translated_title'] = data[i]['dst']\n",
    "            if current['description'].replace('\\n', '').strip() == data[i+1]['src'].strip():\n",
    "                current['translated_description'] = data[i+1]['dst']\n",
    "            new_data.append(current)\n",
    "            i += 2\n",
    "        self.result = new_data"
   ]
  },
  {
   "cell_type": "code",
   "execution_count": 84,
   "metadata": {
    "collapsed": false
   },
   "outputs": [
    {
     "data": {
      "text/plain": [
       "[{'created_at': '2017-07-21 22:42:30',\n",
       "  'description': '国外媒体今日发表文章，基于历史记录，苹果2014年9月9日星期二发布了iPhone 6和6 Plus，2015年9月9日星期三发布了iPhone 6s和6s Plus，2016年9月7日星期三发布了iPhone 7和7 Plus。基于此，iPhone 8、iPhone 7s和7s Plus最可能的发布日期是2017年9月5日星期二或9月6日星期三。（Sina Tech）',\n",
       "  'id': 70757,\n",
       "  'published_at': '2017-07-21 22:42:30',\n",
       "  'title': '外媒：iPhone 8或于9月6日发布，最高售价1200美元',\n",
       "  'translated_description': 'Foreign media published an article today, based on historical records, on Tuesday September 9, 2014 Apple released the iPhone 6 and Plus 6, released on Wednesday September 9, 2015 iPhone 6S and 6S Plus, released on Wednesday September 7, 2016 iPhone 7 and Plus 7. Based on this, the most likely release date for iPhone 8, iPhone, 7S, and 7S Plus is Tuesday, September 5, 2017, or Wednesday, September 6th. (Sina, Tech)',\n",
       "  'translated_title': 'Foreign media: iPhone 8 or released in September 6th, the highest selling price of $1200',\n",
       "  'updated_at': '2017-07-21 22:42:30'},\n",
       " {'created_at': '2017-07-21 19:43:28',\n",
       "  'description': '据财新报道，对于目前有关部门排查海外投资，关注高负债企业的传闻，王健林首次表态：“积极响应国家号召，我们决定把主要投资放在国内。”7月21日，近期备受关注的700亿商业地产大资产包出售后，王健林在接受专访中如是说。（财新）',\n",
       "  'id': 70755,\n",
       "  'published_at': '2017-07-21 19:43:28',\n",
       "  'title': '王健林：我们决定把主要投资放在国内',\n",
       "  'translated_description': 'According to Caixin reports, for the relevant departments to investigate overseas investment, pay attention to high debt enterprises rumors, Wang Jianlin first statement: \"actively respond to national calls, we decided to put the main investment in the country.\".\" July 21st, the recent concern of 70 billion commercial real estate, big assets package out after sale, Wang Jianlin said in an exclusive interview. (Caixin)',\n",
       "  'translated_title': 'Wang Jianlin: we decided to put our major investments at home',\n",
       "  'updated_at': '2017-07-21 19:43:28'},\n",
       " {'created_at': '2017-07-21 19:33:53',\n",
       "  'description': '从一名接近乐视系高层的人士处证实，乐视控股创始人、董事长贾跃亭目前已经回国。（南方都市报）',\n",
       "  'id': 70754,\n",
       "  'published_at': '2017-07-21 19:33:53',\n",
       "  'title': '南方都市报：贾跃亭已回国',\n",
       "  'translated_description': 'From a person close to the music department executives confirmed that as music holdings founder and chairman Jia Yueting has now returned home. (Southern Metropolis Daily)',\n",
       "  'translated_title': 'Southern Metropolis Daily: Jia Yueting has returned home',\n",
       "  'updated_at': '2017-07-21 19:33:53'},\n",
       " {'created_at': '2017-07-21 19:15:11',\n",
       "  'description': '安凯客车(000868)7月21日晚间公告，公司于近日收到合肥市财政转拨付的公司应收2016年国家新能源汽车第一批推广补贴款1.2亿元。公司称，此次收到的款项将直接冲减应收款项，对公司现金流产生积极的影响。',\n",
       "  'id': 70753,\n",
       "  'published_at': '2017-07-21 19:15:11',\n",
       "  'title': '安凯客车：收到1.2亿元国家新能源汽车推广补贴',\n",
       "  'translated_description': \"Ankai (000868) July 21st evening announcement, the company recently received the Hefei municipal finance transfer to finance company accounts receivable in 2016 the country's new energy vehicles first promotion subsidy 120 million yuan. The payments will directly offset receivables and have a positive impact on the company's cash flow, the company said.\",\n",
       "  'translated_title': 'Ankai: received 120 million yuan of state subsidies for the promotion of new energy vehicles',\n",
       "  'updated_at': '2017-07-21 19:15:11'},\n",
       " {'created_at': '2017-07-21 18:57:47',\n",
       "  'description': '今晨，三星在海外宣布，新一代Galaxy旗舰定于下月23日在纽约发布。已经没有任何悬念，这就是传言已久的Note8。没想到，就在刚刚，三星Galaxy盖乐世官微也正式预告，新品发布会定在北京时间8月23日，而且会有详细的直播。此次的主题是“大有可为”，很好理解，Note8的屏幕尺寸和屏幕占比相较S8更进一筹，而且S pen保留，它也出现在了海报中。',\n",
       "  'id': 70752,\n",
       "  'published_at': '2017-07-21 18:57:47',\n",
       "  'title': '三星中国正式披露Galaxy Note8，8月23日发布',\n",
       "  'translated_description': 'This morning, Samsung announced overseas, a new generation of Galaxy flagship scheduled for 23 March next month in New York release. There has been no suspense, and this is the rumored Note8. Unexpectedly, just now, Samsung Galaxy cover Shiguan Le micro also formal notice, the new conference August 23rd in Beijing, and there will be live with. This is the theme of \"have a brilliant future\", a good understanding of Note8, the screen size and the proportion of the screen went a step further than compared to S8, and S pen reserves, it also appears in the poster.',\n",
       "  'translated_title': 'SamSung China officially announced Galaxy Note8, released on August 23rd',\n",
       "  'updated_at': '2017-07-21 18:57:47'},\n",
       " {'created_at': '2017-07-21 18:45:34',\n",
       "  'description': '7月19日，环保部、国家发改委、水利部三部委联合印发《长江经济带生态环境保护规划》。到2020年，长江经济带相关区域用水总量控制在2922.19亿立方米以内；到2030年，用水总量控制在3001.09亿立方米以内。环保部副部长赵英民指出，《规划》从区域协同治理的需求出发，提出水资源优化调配、生态保护与修复、水环境保护与治理等六大工程18类项目，建立重大项目库，以大工程带动大保护。',\n",
       "  'id': 70750,\n",
       "  'published_at': '2017-07-21 18:45:34',\n",
       "  'title': ' 长江经济带11省市设用水总量“天花板”，2030年控制在3001亿方内',\n",
       "  'translated_description': 'In July 19th, the Ministry of environmental protection, the national development and Reform Commission, the Ministry of water resources, three ministries jointly issued the \"Yangtze River Economic Belt ecological environment protection plan.\". By 2020, the total amount of water related to the Yangtze River Economic Belt will be within 292 billion 219 million cubic meters, and the total water consumption will be less than 300 billion 109 million cubic meters by 2030. Vice Minister of environmental protection Zhao Yingmin pointed out that the \"planning\" governance needs from the regional collaboration of the optimal allocation of water resources, ecological protection and restoration, water environmental protection and management of six major projects 18 projects, the establishment of a major project library, to promote the protection of engineering.',\n",
       "  'translated_title': 'The Yangtze River economic belt 11 provinces and municipalities, the total amount of water \"ceiling\", in 2030 controlled in 300 billion 100 million parties',\n",
       "  'updated_at': '2017-07-21 18:45:34'},\n",
       " {'created_at': '2017-07-21 18:34:09',\n",
       "  'description': '上交所日前联合Wind资讯，在其金融终端的“新债Mall”板块下正式推出“上交所地方债动态”模块，全面整合上交所地方债从招标发行到申购的所有信息，为用户打通一条了解和申购上交所地方债的“线上通道”。\\n“上交所地方债动态” 由地方债券日历、认购区域、信息展示区域三大板块构成。用户可以通过地方债券日历查看近期地方财政部门在上交所的发行计划以及指定日期的债券发行信息，及时了解招标发行动向。',\n",
       "  'id': 70747,\n",
       "  'published_at': '2017-07-21 18:34:09',\n",
       "  'title': '上交所联合Wind资讯推出“上交所地方债动态”',\n",
       "  'translated_description': 'The Shanghai Stock Exchange on the combination of Wind information in its financial terminal \"new debt Mall\" plate officially launched the \"Shanghai local debt dynamic module, the full integration of the Shanghai Stock Exchange from the local debt tender issued to all the information of the purchase, through an understanding and purchase Shanghai local debt\" online channel for the user\". The local debt dynamics of the Shanghai Stock Exchange is composed of three major sections: the local bond calendar, the subscription area and the information display area. Through the local bond calendar, users can view the issuance plans of the local financial departments at the Shanghai Stock Exchange in the near future as well as the bond issuance information of the specified date, so as to keep abreast of the bidding trend.',\n",
       "  'translated_title': 'Shanghai Stock Exchange joint Wind information launched the Shanghai Stock Exchange local debt dynamics\"',\n",
       "  'updated_at': '2017-07-21 18:34:09'},\n",
       " {'created_at': '2017-07-21 18:30:12',\n",
       "  'description': '深圳市国资委消息，市属国资国企上半年保持两位数增长，质量效益实现双提升。截至6月底，市属国企资产总额、净资产和国有净资产达12704亿元、7192亿元和5687亿元，比年初增长13.8%、15.3%和17.6%，资产总额在全国37个省级监管机构排名较去年末提高3位。资产负债率43.4%，低于全国水平约30个百分点，整体毛利率和成本费用利润率在全国保持领先。',\n",
       "  'id': 70746,\n",
       "  'published_at': '2017-07-21 18:30:12',\n",
       "  'title': '深圳市属国资国企上半年经济指标保持两位数增长',\n",
       "  'translated_description': 'Shenzhen SASAC news, municipal state-owned enterprises in the first half to maintain two digit growth, quality and efficiency to achieve double promotion. At the end of June, the municipal state-owned total assets, net assets and state-owned assets of 12704 billion yuan, 719 billion 200 million yuan and 568 billion 700 million yuan, up 13.8%, 15.3% and 17.6% compared with the beginning of the year, the total assets of the 37 provincial regulators at the end of the year increased 3 compared to the ranking. Asset liability ratio of 43.4%, lower than the national level of about 30 percentage points, the overall gross margin and cost margins remain in the country.',\n",
       "  'translated_title': 'Shenzhen municipal state-owned enterprises in the first half of economic indicators to maintain two digit growth',\n",
       "  'updated_at': '2017-07-21 18:30:12'},\n",
       " {'created_at': '2017-07-21 18:28:57',\n",
       "  'description': '彭博社消息，北汽新能源公司在B轮融资中筹集了110亿元人民币。在本轮融资消息发布前，北京汽车昨日刚发布公告与新能源汽车订立了增资协议。北京汽车以资产及现金合共人民币11.85亿元的代价认购新能源汽车增发的2.2亿股股份。于增资完成后，公司将持有新能源汽车股份权益总额的7.8106%，成为新能源汽车唯一控股股东，持有公司已发行总股本的44.98%。',\n",
       "  'id': 70745,\n",
       "  'published_at': '2017-07-21 18:28:57',\n",
       "  'title': '北汽新能源公司完成110亿元B轮融资',\n",
       "  'translated_description': 'Bloomberg news, BAIC New Energy Company raised 11 billion yuan in the B round of financing. In the round of financing before the news release, the Beijing automobile yesterday issued a notice with the new energy vehicles entered into a capital increase agreement. Beijing auto shares 220 million shares of new energy vehicles at a cost of $1 billion 185 million in assets and cash. After the completion of the capital increase, the company will hold 7.8106% of the total equity interest in new energy vehicles, becoming the only controlling shareholder of new energy vehicles, holding 44.98% of the total issued share capital of the company.',\n",
       "  'translated_title': 'Beiqi New Energy Company completed 11 billion yuan B round of financing',\n",
       "  'updated_at': '2017-07-21 18:28:57'},\n",
       " {'created_at': '2017-07-21 18:19:07',\n",
       "  'description': '身兼X剧集《大群》导演、编剧、制作人3个角色的Noah Hawley日前在圣迭戈漫展上透露了福克斯的一个新超级英雄影片项目。据其披露，福克斯决定将毁灭博士搬上大银幕，“我只能透露两个词，第一个是博士(Doctor)，第二个是毁灭(Doom)。”毁灭博士是《神奇四侠》的主要反派，无论是在漫威的漫画中还是在《神奇四侠》影片中，该角色都被设定为一个疯狂的天才魔法师，而为了掩盖因在实验中毁容的脸庞，他戴上了一个金属面具。',\n",
       "  'id': 70744,\n",
       "  'published_at': '2017-07-21 18:19:07',\n",
       "  'title': '福克斯计划为《神奇四侠》超级反派“毁灭博士”拍摄独立电影',\n",
       "  'translated_description': 'A X drama \"crowd\" director, screenwriter, producer of Noah Hawley on the 3 roles in San Diego before the man show revealed Fawkes a new superhero film project. According to its disclosure, Fawkes decided to destroy Dr. Dr. onto the big screen, \"I can only disclose two words, the first is Dr. (Doctor), and the second is Doom.\".\" Doctor Doom is the main villain \"Fantastic Four\", both in the Marvel comics or in the \"Fantastic Four\" in the film, the character was set as a mad genius magician, and to hide in the experiment because disfigured face, he wears a metal mask.',\n",
       "  'translated_title': 'Fawkes plans to shoot an independent film for \"supernatural four\" super villain \"destroy doctor\"',\n",
       "  'updated_at': '2017-07-21 18:19:07'}]"
      ]
     },
     "execution_count": 84,
     "metadata": {},
     "output_type": "execute_result"
    }
   ],
   "source": [
    "a = FlashTranslator()\n",
    "\n",
    "\n",
    "a.combine()\n",
    "a.result"
   ]
  },
  {
   "cell_type": "markdown",
   "metadata": {},
   "source": [
    "- The `id` is incremental"
   ]
  },
  {
   "cell_type": "code",
   "execution_count": 61,
   "metadata": {
    "collapsed": false
   },
   "outputs": [
    {
     "name": "stdout",
     "output_type": "stream",
     "text": [
      "70757\n",
      "70755\n",
      "70754\n",
      "70753\n",
      "70752\n",
      "70750\n",
      "70747\n",
      "70746\n",
      "70745\n",
      "70744\n"
     ]
    }
   ],
   "source": [
    "for x in data:\n",
    "    print(x.get('id'))"
   ]
  }
 ],
 "metadata": {
  "kernelspec": {
   "display_name": "Python 3",
   "language": "python",
   "name": "python3"
  },
  "language_info": {
   "codemirror_mode": {
    "name": "ipython",
    "version": 3
   },
   "file_extension": ".py",
   "mimetype": "text/x-python",
   "name": "python",
   "nbconvert_exporter": "python",
   "pygments_lexer": "ipython3",
   "version": "3.5.2"
  }
 },
 "nbformat": 4,
 "nbformat_minor": 2
}
